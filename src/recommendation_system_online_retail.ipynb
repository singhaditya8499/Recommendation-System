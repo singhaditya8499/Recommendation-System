{
 "cells": [
  {
   "cell_type": "markdown",
   "id": "b061235c",
   "metadata": {},
   "source": [
    "## Recommendation system using Word2Vec model\n",
    "\n",
    "Word2Vec algorithm showed that we can use a vector (a list of numbers) to properly represent words in a way that captures semantic or meaning-related relationships (e.g. the ability to tell if words are similar, or opposites, or that a pair of words like “Stockholm” and “Sweden” have the same relationship between them as “Cairo” and “Egypt” have between them) as well as syntactic, or grammar-based, relationships (e.g. the relationship between “had” and “has” is the same as that between “was” and “is”). (Source: aman.ai)\n",
    "\n",
    "\n",
    "Word2Vec is generally used in NLP to create embeddings. Embeddings are mathematical values that are used to represent words (and their context). We can assume that similar words will have nearly same embedding values (eg. man and woman).\n",
    "\n",
    "Recommendation problem can be solved with Word2Vec model. Refer these links:\n",
    "1. https://towardsdatascience.com/using-word2vec-for-music-recommendations-bb9649ac2484\n",
    "2. https://medium.com/airbnb-engineering/listing-embeddings-for-similar-listing-recommendations-and-real-time-personalization-in-search-601172f7603e\n",
    "3. https://arxiv.org/pdf/1606.07154.pdf\n",
    "4. https://arxiv.org/pdf/1607.01869.pdf\n",
    "\n",
    "We can draw comparison between the sequence of operations performed by the user and the sentences in text. This will help us to get the embeddings for the individual entities the user accessed in the sequence and get embeddings for it. Once we have the mathematical values we can use them for different types of tasks like finding similar items, not similar items, top k closest items, etc."
   ]
  },
  {
   "cell_type": "markdown",
   "id": "edb7e0cc",
   "metadata": {},
   "source": [
    "#### Followed the code presented in https://www.analyticsvidhya.com/blog/2019/07/how-to-build-recommendation-system-word2vec-python/"
   ]
  },
  {
   "cell_type": "markdown",
   "id": "f210e111",
   "metadata": {},
   "source": [
    "#### Importing libraries"
   ]
  },
  {
   "cell_type": "code",
   "execution_count": 28,
   "id": "0581447e",
   "metadata": {},
   "outputs": [],
   "source": [
    "import pandas as pd\n",
    "import numpy as np\n",
    "import random\n",
    "from tqdm import tqdm\n",
    "from gensim.models import Word2Vec\n",
    "import matplotlib.pyplot as plt"
   ]
  },
  {
   "cell_type": "markdown",
   "id": "a7c420eb",
   "metadata": {},
   "source": [
    "#### Loading the dataset"
   ]
  },
  {
   "cell_type": "code",
   "execution_count": 2,
   "id": "8b14fad3",
   "metadata": {},
   "outputs": [],
   "source": [
    "data = pd.read_csv(\"./../data/online_retail.csv\")"
   ]
  },
  {
   "cell_type": "code",
   "execution_count": 3,
   "id": "0138e13f",
   "metadata": {},
   "outputs": [
    {
     "data": {
      "text/html": [
       "<div>\n",
       "<style scoped>\n",
       "    .dataframe tbody tr th:only-of-type {\n",
       "        vertical-align: middle;\n",
       "    }\n",
       "\n",
       "    .dataframe tbody tr th {\n",
       "        vertical-align: top;\n",
       "    }\n",
       "\n",
       "    .dataframe thead th {\n",
       "        text-align: right;\n",
       "    }\n",
       "</style>\n",
       "<table border=\"1\" class=\"dataframe\">\n",
       "  <thead>\n",
       "    <tr style=\"text-align: right;\">\n",
       "      <th></th>\n",
       "      <th>InvoiceNo</th>\n",
       "      <th>StockCode</th>\n",
       "      <th>Description</th>\n",
       "      <th>Quantity</th>\n",
       "      <th>InvoiceDate</th>\n",
       "      <th>UnitPrice</th>\n",
       "      <th>CustomerID</th>\n",
       "      <th>Country</th>\n",
       "    </tr>\n",
       "  </thead>\n",
       "  <tbody>\n",
       "    <tr>\n",
       "      <th>0</th>\n",
       "      <td>536365</td>\n",
       "      <td>85123A</td>\n",
       "      <td>WHITE HANGING HEART T-LIGHT HOLDER</td>\n",
       "      <td>6</td>\n",
       "      <td>01/12/10 8:26</td>\n",
       "      <td>2.55</td>\n",
       "      <td>17850.0</td>\n",
       "      <td>United Kingdom</td>\n",
       "    </tr>\n",
       "    <tr>\n",
       "      <th>1</th>\n",
       "      <td>536365</td>\n",
       "      <td>71053</td>\n",
       "      <td>WHITE METAL LANTERN</td>\n",
       "      <td>6</td>\n",
       "      <td>01/12/10 8:26</td>\n",
       "      <td>3.39</td>\n",
       "      <td>17850.0</td>\n",
       "      <td>United Kingdom</td>\n",
       "    </tr>\n",
       "    <tr>\n",
       "      <th>2</th>\n",
       "      <td>536365</td>\n",
       "      <td>84406B</td>\n",
       "      <td>CREAM CUPID HEARTS COAT HANGER</td>\n",
       "      <td>8</td>\n",
       "      <td>01/12/10 8:26</td>\n",
       "      <td>2.75</td>\n",
       "      <td>17850.0</td>\n",
       "      <td>United Kingdom</td>\n",
       "    </tr>\n",
       "    <tr>\n",
       "      <th>3</th>\n",
       "      <td>536365</td>\n",
       "      <td>84029G</td>\n",
       "      <td>KNITTED UNION FLAG HOT WATER BOTTLE</td>\n",
       "      <td>6</td>\n",
       "      <td>01/12/10 8:26</td>\n",
       "      <td>3.39</td>\n",
       "      <td>17850.0</td>\n",
       "      <td>United Kingdom</td>\n",
       "    </tr>\n",
       "    <tr>\n",
       "      <th>4</th>\n",
       "      <td>536365</td>\n",
       "      <td>84029E</td>\n",
       "      <td>RED WOOLLY HOTTIE WHITE HEART.</td>\n",
       "      <td>6</td>\n",
       "      <td>01/12/10 8:26</td>\n",
       "      <td>3.39</td>\n",
       "      <td>17850.0</td>\n",
       "      <td>United Kingdom</td>\n",
       "    </tr>\n",
       "  </tbody>\n",
       "</table>\n",
       "</div>"
      ],
      "text/plain": [
       "  InvoiceNo StockCode                          Description  Quantity  \\\n",
       "0    536365    85123A   WHITE HANGING HEART T-LIGHT HOLDER         6   \n",
       "1    536365     71053                  WHITE METAL LANTERN         6   \n",
       "2    536365    84406B       CREAM CUPID HEARTS COAT HANGER         8   \n",
       "3    536365    84029G  KNITTED UNION FLAG HOT WATER BOTTLE         6   \n",
       "4    536365    84029E       RED WOOLLY HOTTIE WHITE HEART.         6   \n",
       "\n",
       "     InvoiceDate  UnitPrice  CustomerID         Country  \n",
       "0  01/12/10 8:26       2.55     17850.0  United Kingdom  \n",
       "1  01/12/10 8:26       3.39     17850.0  United Kingdom  \n",
       "2  01/12/10 8:26       2.75     17850.0  United Kingdom  \n",
       "3  01/12/10 8:26       3.39     17850.0  United Kingdom  \n",
       "4  01/12/10 8:26       3.39     17850.0  United Kingdom  "
      ]
     },
     "execution_count": 3,
     "metadata": {},
     "output_type": "execute_result"
    }
   ],
   "source": [
    "data.head()"
   ]
  },
  {
   "cell_type": "code",
   "execution_count": 8,
   "id": "e3c870d8",
   "metadata": {},
   "outputs": [
    {
     "data": {
      "text/plain": [
       "(541909, 8)"
      ]
     },
     "execution_count": 8,
     "metadata": {},
     "output_type": "execute_result"
    }
   ],
   "source": [
    "data.shape"
   ]
  },
  {
   "cell_type": "markdown",
   "id": "4b9c3979",
   "metadata": {},
   "source": [
    "### Description of the dataset\n",
    "\n",
    "1. **InvoiceNo:** Invoice number. a unique number assigned to each transaction\n",
    "2. **StockCode:** Product/item code. a unique number assigned to each distinct product\n",
    "3. **Description:** Product description\n",
    "4. **Quantity:** The quantities of each product per transaction\n",
    "5. **InvoiceDate:** Invoice Date and time. The day and time when each transaction was generated\n",
    "6. **CustomerID:** Customer number. a unique number assigned to each customer"
   ]
  },
  {
   "cell_type": "markdown",
   "id": "a4f45a94",
   "metadata": {},
   "source": [
    "#### Data preprocessing"
   ]
  },
  {
   "cell_type": "code",
   "execution_count": 10,
   "id": "5c3d179f",
   "metadata": {},
   "outputs": [
    {
     "data": {
      "text/plain": [
       "InvoiceNo           0\n",
       "StockCode           0\n",
       "Description      1454\n",
       "Quantity            0\n",
       "InvoiceDate         0\n",
       "UnitPrice           0\n",
       "CustomerID     135080\n",
       "Country             0\n",
       "dtype: int64"
      ]
     },
     "execution_count": 10,
     "metadata": {},
     "output_type": "execute_result"
    }
   ],
   "source": [
    "data.isnull().sum()"
   ]
  },
  {
   "cell_type": "code",
   "execution_count": 11,
   "id": "ad542257",
   "metadata": {},
   "outputs": [],
   "source": [
    "data.dropna(inplace=True)"
   ]
  },
  {
   "cell_type": "code",
   "execution_count": 12,
   "id": "218e7b4d",
   "metadata": {},
   "outputs": [
    {
     "data": {
      "text/plain": [
       "(406829, 8)"
      ]
     },
     "execution_count": 12,
     "metadata": {},
     "output_type": "execute_result"
    }
   ],
   "source": [
    "data.shape"
   ]
  },
  {
   "cell_type": "code",
   "execution_count": 13,
   "id": "2ea42f79",
   "metadata": {},
   "outputs": [],
   "source": [
    "data['StockCode'] = data['StockCode'].astype(str)"
   ]
  },
  {
   "cell_type": "markdown",
   "id": "10a6130c",
   "metadata": {},
   "source": [
    "#### Dividing data in testing and training dataset"
   ]
  },
  {
   "cell_type": "code",
   "execution_count": 15,
   "id": "161ce7e0",
   "metadata": {},
   "outputs": [],
   "source": [
    "customerIDs = data.CustomerID.unique().tolist()"
   ]
  },
  {
   "cell_type": "code",
   "execution_count": 16,
   "id": "1ee9b91f",
   "metadata": {},
   "outputs": [],
   "source": [
    "random.shuffle(customerIDs)"
   ]
  },
  {
   "cell_type": "code",
   "execution_count": 17,
   "id": "626eba82",
   "metadata": {},
   "outputs": [],
   "source": [
    "customerIDs_train = [customerIDs[i] for i in range(round(0.9*len(customerIDs)))]"
   ]
  },
  {
   "cell_type": "code",
   "execution_count": 19,
   "id": "f0f18fb4",
   "metadata": {},
   "outputs": [],
   "source": [
    "data_train = data[data['CustomerID'].isin(customerIDs_train)]\n",
    "data_test = data[-data['CustomerID'].isin(customerIDs_train)]"
   ]
  },
  {
   "cell_type": "code",
   "execution_count": 24,
   "id": "908678d6",
   "metadata": {},
   "outputs": [
    {
     "name": "stderr",
     "output_type": "stream",
     "text": [
      "100%|█████████████████████████████████████| 3935/3935 [00:02<00:00, 1646.78it/s]\n"
     ]
    }
   ],
   "source": [
    "purchase_sequence_train = []\n",
    "\n",
    "for i in tqdm(customerIDs_train):\n",
    "    purchase_sequence_individual = data_train[data_train['CustomerID']==i]['StockCode'].tolist()\n",
    "    purchase_sequence_train.append(purchase_sequence_individual)"
   ]
  },
  {
   "cell_type": "code",
   "execution_count": 25,
   "id": "30f5346a",
   "metadata": {},
   "outputs": [
    {
     "name": "stderr",
     "output_type": "stream",
     "text": [
      "100%|███████████████████████████████████████| 437/437 [00:00<00:00, 2441.38it/s]\n"
     ]
    }
   ],
   "source": [
    "purchase_sequence_test = []\n",
    "\n",
    "for i in tqdm(data_test.CustomerID.unique()):\n",
    "    purchase_sequence_individual = data_test[data_test['CustomerID']==i]['StockCode'].tolist()\n",
    "    purchase_sequence_test.append(purchase_sequence_individual)"
   ]
  },
  {
   "cell_type": "markdown",
   "id": "7cd7c40e",
   "metadata": {},
   "source": [
    "#### Creating Word2Vec model to get the embeddings\n",
    "\n",
    "1. **window:** This dictates the number of words to be considered on the left and right of the main word.\n",
    "2. **sg:** This is the skip-gram parameter. If this is set as 1 then it means skip-gram algorithm will be used (predicts the target word using the context words). If this is 0, then the function use CBOW (continuous bag of words) will be used (predicts the context words using the target word).\n",
    "3. **hs:** Hierarchichal softmax, if its 0 then negative sampling is being used which is more memory efficient. If its 1 then negative samling is not used.\n",
    "4. **negative:** Dictates the number of negative samples to be used.\n",
    "5. **alpha:** Learning rate\n",
    "5. **min_alpha:** Minimum value alpha can take\n",
    "6. **seed:** Used to reproduce the result, same seed values will give same result"
   ]
  },
  {
   "cell_type": "code",
   "execution_count": 29,
   "id": "e558d2c2",
   "metadata": {},
   "outputs": [],
   "source": [
    "model = Word2Vec(window=10, sg=1, hs=0, \n",
    "                negative=10, alpha=0.03,\n",
    "                min_alpha=0.0007, seed=14)"
   ]
  },
  {
   "cell_type": "markdown",
   "id": "c6196d59",
   "metadata": {},
   "source": [
    "This code builds the voacabulary using the data passed. It also assigns unique identifier to each word."
   ]
  },
  {
   "cell_type": "code",
   "execution_count": 74,
   "id": "b5ea863a",
   "metadata": {},
   "outputs": [],
   "source": [
    "model.build_vocab(purchase_sequence_train, progress_per=10)"
   ]
  },
  {
   "cell_type": "code",
   "execution_count": 32,
   "id": "978a8fec",
   "metadata": {},
   "outputs": [
    {
     "data": {
      "text/plain": [
       "(3690575, 3728010)"
      ]
     },
     "execution_count": 32,
     "metadata": {},
     "output_type": "execute_result"
    }
   ],
   "source": [
    "model.train(purchase_sequence_train, total_examples=model.corpus_count, epochs=10, report_delay=1)"
   ]
  },
  {
   "cell_type": "code",
   "execution_count": 33,
   "id": "addbfc4d",
   "metadata": {},
   "outputs": [
    {
     "name": "stderr",
     "output_type": "stream",
     "text": [
      "/var/folders/wz/cnwy77v95fz65y4_p_vs2l140000gn/T/ipykernel_89408/1992334471.py:1: DeprecationWarning: Call to deprecated `init_sims` (Gensim 4.0.0 implemented internal optimizations that make calls to init_sims() unnecessary. init_sims() is now obsoleted and will be completely removed in future versions. See https://github.com/RaRe-Technologies/gensim/wiki/Migrating-from-Gensim-3.x-to-4).\n",
      "  model.init_sims(replace=True)\n"
     ]
    }
   ],
   "source": [
    "model.init_sims(replace=True)"
   ]
  },
  {
   "cell_type": "code",
   "execution_count": 34,
   "id": "36c48e69",
   "metadata": {},
   "outputs": [
    {
     "name": "stdout",
     "output_type": "stream",
     "text": [
      "Word2Vec<vocab=3171, vector_size=100, alpha=0.03>\n"
     ]
    }
   ],
   "source": [
    "print(model)"
   ]
  },
  {
   "cell_type": "code",
   "execution_count": 36,
   "id": "5fa8fa3d",
   "metadata": {},
   "outputs": [
    {
     "data": {
      "text/plain": [
       "(3171, 100)"
      ]
     },
     "execution_count": 36,
     "metadata": {},
     "output_type": "execute_result"
    }
   ],
   "source": [
    "X = model.wv.vectors\n",
    "vocab = model.wv.index_to_key\n",
    "X.shape"
   ]
  },
  {
   "cell_type": "code",
   "execution_count": 52,
   "id": "ca0a2beb",
   "metadata": {},
   "outputs": [],
   "source": [
    "import umap.umap_ as umap\n",
    "\n",
    "cluster_embedding = umap.UMAP(n_neighbors=30, min_dist=0.0, n_components=2, random_state=42).fit_transform(X)"
   ]
  },
  {
   "cell_type": "code",
   "execution_count": 53,
   "id": "352dc51a",
   "metadata": {},
   "outputs": [
    {
     "data": {
      "text/plain": [
       "<matplotlib.collections.PathCollection at 0x7f8f56a81310>"
      ]
     },
     "execution_count": 53,
     "metadata": {},
     "output_type": "execute_result"
    },
    {
     "data": {
      "image/png": "[encoded data removed]",
      "text/plain": [
       "<Figure size 720x648 with 1 Axes>"
      ]
     },
     "metadata": {
      "needs_background": "light"
     },
     "output_type": "display_data"
    }
   ],
   "source": [
    "plt.figure(figsize=(10,9))\n",
    "plt.scatter(cluster_embedding[:, 0], cluster_embedding[:, 1], s=3, cmap='Spectral')"
   ]
  },
  {
   "cell_type": "code",
   "execution_count": 54,
   "id": "7cd08647",
   "metadata": {},
   "outputs": [],
   "source": [
    "products = data_train[[\"StockCode\", \"Description\"]]"
   ]
  },
  {
   "cell_type": "code",
   "execution_count": 56,
   "id": "dd131842",
   "metadata": {},
   "outputs": [
    {
     "name": "stderr",
     "output_type": "stream",
     "text": [
      "/var/folders/wz/cnwy77v95fz65y4_p_vs2l140000gn/T/ipykernel_89408/2105348338.py:1: SettingWithCopyWarning: \n",
      "A value is trying to be set on a copy of a slice from a DataFrame\n",
      "\n",
      "See the caveats in the documentation: https://pandas.pydata.org/pandas-docs/stable/user_guide/indexing.html#returning-a-view-versus-a-copy\n",
      "  products.drop_duplicates(inplace=True, subset='StockCode', keep=\"last\")\n"
     ]
    }
   ],
   "source": [
    "products.drop_duplicates(inplace=True, subset='StockCode', keep=\"last\")\n",
    "products_dict = products.groupby('StockCode')['Description'].apply(list).to_dict()"
   ]
  },
  {
   "cell_type": "code",
   "execution_count": 79,
   "id": "b631c476",
   "metadata": {},
   "outputs": [],
   "source": [
    "def similar_products(v, n = 6):\n",
    "    # extract most similar products for the input vector\n",
    "    ms = model.wv.most_similar(v, topn= n+1)[1:]\n",
    "    # extract name and similarity score of the similar products\n",
    "    new_ms = []\n",
    "    for j in ms:\n",
    "        pair = (products_dict[j[0]][0], j[1])\n",
    "        new_ms.append(pair)\n",
    "    return new_ms"
   ]
  },
  {
   "cell_type": "code",
   "execution_count": 80,
   "id": "25470a53",
   "metadata": {},
   "outputs": [
    {
     "name": "stdout",
     "output_type": "stream",
     "text": [
      "The product 90019A is: ['SILVER M.O.P ORBIT BRACELET']\n"
     ]
    },
    {
     "data": {
      "text/plain": [
       "[('FOLDING UMBRELLA BLACKBLUE POLKADOT', 0.8222659826278687),\n",
       " ('SET/3 RABBITS FLOWER SKIPPPING ROPE', 0.8187665939331055),\n",
       " ('WOODLAND LARGE RED FELT HEART', 0.7946421504020691),\n",
       " ('WRAP CHRISTMAS SCREEN PRINT', 0.7869718074798584),\n",
       " ('SET OF 2 CERAMIC PAINTED HEARTS ', 0.7619646191596985),\n",
       " ('WHITE CANDYSTUFT ARTIFICIAL FLOWER', 0.7550341486930847)]"
      ]
     },
     "execution_count": 80,
     "metadata": {},
     "output_type": "execute_result"
    }
   ],
   "source": [
    "print(\"The product 90019A is:\", (products_dict['90019A']))\n",
    "similar_products(model.wv['90019A'])"
   ]
  },
  {
   "cell_type": "code",
   "execution_count": 69,
   "id": "2bf0b27d",
   "metadata": {},
   "outputs": [],
   "source": [
    "def aggregate_vectors(products):\n",
    "    product_vec = []\n",
    "    for i in products:\n",
    "        try:\n",
    "            product_vec.append(model.wv[i])\n",
    "        except KeyError:\n",
    "            continue\n",
    "    return np.mean(product_vec, axis=0)"
   ]
  },
  {
   "cell_type": "code",
   "execution_count": 70,
   "id": "31f9fd6e",
   "metadata": {},
   "outputs": [
    {
     "data": {
      "text/plain": [
       "67"
      ]
     },
     "execution_count": 70,
     "metadata": {},
     "output_type": "execute_result"
    }
   ],
   "source": [
    "len(purchase_sequence_test[0])"
   ]
  },
  {
   "cell_type": "code",
   "execution_count": 71,
   "id": "a62451c6",
   "metadata": {},
   "outputs": [
    {
     "data": {
      "text/plain": [
       "(100,)"
      ]
     },
     "execution_count": 71,
     "metadata": {},
     "output_type": "execute_result"
    }
   ],
   "source": [
    "aggregate_vectors(purchase_sequence_test[0]).shape"
   ]
  },
  {
   "cell_type": "code",
   "execution_count": 72,
   "id": "e036840d",
   "metadata": {},
   "outputs": [
    {
     "data": {
      "text/plain": [
       "[('ALARM CLOCK BAKELIKE GREEN', 0.7690986394882202),\n",
       " ('ALARM CLOCK BAKELIKE IVORY', 0.7690050601959229),\n",
       " ('ALARM CLOCK BAKELIKE PINK', 0.764397144317627),\n",
       " ('ALARM CLOCK BAKELIKE ORANGE', 0.7529542446136475),\n",
       " ('ALARM CLOCK BAKELIKE CHOCOLATE', 0.7283250093460083),\n",
       " ('BLUE DINER WALL CLOCK', 0.6657717823982239)]"
      ]
     },
     "execution_count": 72,
     "metadata": {},
     "output_type": "execute_result"
    }
   ],
   "source": [
    "similar_products(aggregate_vectors(purchase_sequence_test[0]))"
   ]
  },
  {
   "cell_type": "code",
   "execution_count": 73,
   "id": "f4b73857",
   "metadata": {},
   "outputs": [
    {
     "data": {
      "text/plain": [
       "[('ALARM CLOCK BAKELIKE CHOCOLATE', 0.7450459599494934),\n",
       " ('ALARM CLOCK BAKELIKE RED ', 0.7450198531150818),\n",
       " ('ALARM CLOCK BAKELIKE IVORY', 0.7437461614608765),\n",
       " ('ALARM CLOCK BAKELIKE PINK', 0.730961799621582),\n",
       " ('ALARM CLOCK BAKELIKE ORANGE', 0.6724289655685425),\n",
       " ('BLUE DINER WALL CLOCK', 0.5965649485588074)]"
      ]
     },
     "execution_count": 73,
     "metadata": {},
     "output_type": "execute_result"
    }
   ],
   "source": [
    "similar_products(aggregate_vectors(purchase_sequence_test[0][-10:]))"
   ]
  },
  {
   "cell_type": "code",
   "execution_count": null,
   "id": "00b6511b",
   "metadata": {},
   "outputs": [],
   "source": []
  }
 ],
 "metadata": {
  "kernelspec": {
   "display_name": "Python 3 (ipykernel)",
   "language": "python",
   "name": "python3"
  },
  "language_info": {
   "codemirror_mode": {
    "name": "ipython",
    "version": 3
   },
   "file_extension": ".py",
   "mimetype": "text/x-python",
   "name": "python",
   "nbconvert_exporter": "python",
   "pygments_lexer": "ipython3",
   "version": "3.9.7"
  }
 },
 "nbformat": 4,
 "nbformat_minor": 5
}
